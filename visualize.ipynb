{
 "cells": [
  {
   "cell_type": "code",
   "execution_count": 1,
   "metadata": {},
   "outputs": [],
   "source": [
    "from pathlib import Path\n",
    "\n",
    "import numpy as np\n",
    "import pandas as pd\n",
    "from pandas.api.types import is_integer_dtype\n",
    "import matplotlib.pyplot as plt\n",
    "from matplotlib.ticker import PercentFormatter\n",
    "\n",
    "import torch\n",
    "from sklearn.preprocessing import LabelEncoder\n",
    "from sklearn.metrics import roc_auc_score\n",
    "\n",
    "from pytorch_tabnet.tab_model import TabNetClassifier\n",
    "from pytorch_tabnet.augmentations import ClassificationSMOTE\n",
    "\n",
    "plt.style.use(\"./auri.mplstyle\")\n"
   ]
  },
  {
   "cell_type": "code",
   "execution_count": 2,
   "metadata": {},
   "outputs": [
    {
     "name": "stdout",
     "output_type": "stream",
     "text": [
      "A8 32\n",
      "A10 21\n",
      "A20 2\n",
      "fire 2\n",
      "{'A8': array(['01000', '02000', '03000', '04000', '05000', '06000', '07000',\n",
      "       '08000', '09000', '10000', '11000', '12000', '13000', '14000',\n",
      "       '15000', '16000', '17000', '18000', '19000', '20000', '21000',\n",
      "       '22000', '23000', '24000', '25000', '26000', '27000', '29000',\n",
      "       '31000', 'N_A', 'Z3000', 'Z5000', 'Z6000', 'Z8000', 'Z9000'],\n",
      "      dtype=object), 'A10': array(['10', '11', '12', '13', '19', '21', '22', '26', '29', '30', '31',\n",
      "       '32', '33', '37', '39', '40', '41', '42', '43', '49', '50', '51',\n",
      "       '52', '53', '61', '63', '74', '99', 'N_A'], dtype=object), 'A20': array(['N', 'N_A', 'Y'], dtype=object), 'fire': array([0, 1])}\n"
     ]
    }
   ],
   "source": [
    "df_orig = pd.read_parquet(\"output/data.parquet\")\n",
    "df_1 = df_orig[df_orig.fire == 1]\n",
    "np.random.seed(1106)\n",
    "df_0 = df_orig[df_orig.fire == 0].sample(n=len(df_1))\n",
    "np.random.seed(1106)\n",
    "df = pd.concat([df_1, df_0]).sample(frac=1).reset_index(drop=True)\n",
    "df = df[\n",
    "    [\n",
    "        \"A8\",\n",
    "        \"A10\",\n",
    "        \"A14\",\n",
    "        \"A18\",\n",
    "        \"A20\",\n",
    "        \"gd_zone\",\n",
    "        \"gg_zone\",\n",
    "        \"jd_zone\",\n",
    "        \"pr_zone\",\n",
    "        \"si_zone\",\n",
    "        \"crime_zone\",\n",
    "        \"fire\",\n",
    "        \"fire_1km_cnt\",\n",
    "        \"fire_1km2_cnt\",\n",
    "        \"fire_500m_cnt\",\n",
    "        \"year\",\n",
    "    ]\n",
    "]\n",
    "np.random.seed(1106)\n",
    "df[\"set\"] = np.random.choice(\n",
    "    [\"train\", \"valid\", \"test\"], p=[0.8, 0.1, 0.1], size=len(df)\n",
    ")\n",
    "\n",
    "train_idx = df[df.set == \"train\"].index\n",
    "valid_idx = df[df.set == \"valid\"].index\n",
    "test_idx = df[df.set == \"test\"].index\n",
    "\n",
    "categorical_columns = [\"A8\", \"A10\", \"A20\", \"fire\"]\n",
    "categorical_classes = {}\n",
    "categorical_dims = {}\n",
    "\n",
    "for col in categorical_columns:\n",
    "    print(col, df[col].nunique())\n",
    "    l_enc = LabelEncoder()\n",
    "    l_enc.fit(df_orig[col].fillna(\"N_A\").values)\n",
    "    df[col] = df[col].fillna(\"N_A\")\n",
    "    df[col] = l_enc.transform(df[col].values)\n",
    "    categorical_classes[col] = l_enc.classes_\n",
    "    categorical_dims[col] = len(l_enc.classes_)\n",
    "\n",
    "print(categorical_classes)\n",
    "\n",
    "numerical_columns = [\n",
    "    \"A14\",\n",
    "    \"A18\",\n",
    "    \"fire_1km_cnt\",\n",
    "    \"fire_1km2_cnt\",\n",
    "    \"fire_500m_cnt\",\n",
    "    \"crime_zone\",\n",
    "    \"gd_zone\",\n",
    "    \"gg_zone\",\n",
    "    \"jd_zone\",\n",
    "    \"pr_zone\",\n",
    "    \"si_zone\",\n",
    "    \"year\",\n",
    "]\n",
    "\n",
    "df[numerical_columns] = df[numerical_columns].astype(float)\n",
    "for col in numerical_columns:\n",
    "    m_train = df.loc[train_idx, col].mean()\n",
    "    m_valid = df.loc[valid_idx, col].mean()\n",
    "    m_test = df.loc[test_idx, col].mean()\n",
    "    df.loc[train_idx, col] = df.loc[train_idx, col].fillna(m_train)\n",
    "    df.loc[valid_idx, col] = df.loc[valid_idx, col].fillna(m_valid)\n",
    "    df.loc[test_idx, col] = df.loc[test_idx, col].fillna(m_test)\n",
    "\n",
    "features = [col for col in df.columns if col not in [\"set\", \"fire\"]]\n",
    "cat_idxs = [i for i, f in enumerate(features) if f in categorical_columns]\n",
    "cat_dims = [\n",
    "    categorical_dims[f] for _, f in enumerate(features) if f in categorical_columns\n",
    "]\n",
    "\n",
    "X_train = df[features].values[train_idx]\n",
    "X_valid = df[features].values[valid_idx]\n",
    "X_test = df[features].values[test_idx]\n",
    "\n",
    "y_train = df[\"fire\"].values[train_idx]\n",
    "y_valid = df[\"fire\"].values[valid_idx]\n",
    "y_test = df[\"fire\"].values[test_idx]\n"
   ]
  },
  {
   "cell_type": "code",
   "execution_count": 3,
   "metadata": {},
   "outputs": [
    {
     "name": "stdout",
     "output_type": "stream",
     "text": [
      "A8 34\n",
      "A10 28\n",
      "A20 2\n",
      "fire 2\n",
      "{'A8': array(['01000', '02000', '03000', '04000', '05000', '06000', '07000',\n",
      "       '08000', '09000', '10000', '11000', '12000', '13000', '14000',\n",
      "       '15000', '16000', '17000', '18000', '19000', '20000', '21000',\n",
      "       '22000', '23000', '24000', '25000', '26000', '27000', '29000',\n",
      "       '31000', 'N_A', 'Z3000', 'Z5000', 'Z6000', 'Z8000', 'Z9000'],\n",
      "      dtype=object), 'A10': array(['10', '11', '12', '13', '19', '21', '22', '26', '29', '30', '31',\n",
      "       '32', '33', '37', '39', '40', '41', '42', '43', '49', '50', '51',\n",
      "       '52', '53', '61', '63', '74', '99', 'N_A'], dtype=object), 'A20': array(['N', 'N_A', 'Y'], dtype=object), 'fire': array([0, 1])}\n"
     ]
    }
   ],
   "source": [
    "df_orig = pd.read_parquet(\"output/data.parquet\")\n",
    "df2 = df_orig.loc[\n",
    "    :,\n",
    "    [\n",
    "        \"X\",\n",
    "        \"Y\",\n",
    "        \"A8\",\n",
    "        \"A10\",\n",
    "        \"A14\",\n",
    "        \"A18\",\n",
    "        \"A20\",\n",
    "        \"gd_zone\",\n",
    "        \"gg_zone\",\n",
    "        \"jd_zone\",\n",
    "        \"pr_zone\",\n",
    "        \"si_zone\",\n",
    "        \"crime_zone\",\n",
    "        \"fire\",\n",
    "        \"fire_1km_cnt\",\n",
    "        \"fire_1km2_cnt\",\n",
    "        \"fire_500m_cnt\",\n",
    "        \"year\",\n",
    "    ],\n",
    "]\n",
    "\n",
    "categorical_columns = [\"A8\", \"A10\", \"A20\", \"fire\"]\n",
    "categorical_classes = {}\n",
    "categorical_dims = {}\n",
    "\n",
    "for col in categorical_columns:\n",
    "    print(col, df2[col].nunique())\n",
    "    l_enc = LabelEncoder()\n",
    "    l_enc.fit(df_orig[col].fillna(\"N_A\").values)\n",
    "    df2[col] = df2[col].fillna(\"N_A\")\n",
    "    df2[col] = l_enc.transform(df2[col].values)\n",
    "    categorical_classes[col] = l_enc.classes_\n",
    "    categorical_dims[col] = len(l_enc.classes_)\n",
    "\n",
    "print(categorical_classes)\n",
    "\n",
    "numerical_columns = [\n",
    "    \"A14\",\n",
    "    \"A18\",\n",
    "    \"fire_1km_cnt\",\n",
    "    \"fire_1km2_cnt\",\n",
    "    \"fire_500m_cnt\",\n",
    "    \"crime_zone\",\n",
    "    \"gd_zone\",\n",
    "    \"gg_zone\",\n",
    "    \"jd_zone\",\n",
    "    \"pr_zone\",\n",
    "    \"si_zone\",\n",
    "    \"year\",\n",
    "]\n",
    "\n",
    "df2[numerical_columns] = df2[numerical_columns].astype(float)\n",
    "for col in numerical_columns:\n",
    "    m = df2.loc[:, col].mean()\n",
    "    df2.loc[:, col] = df2.loc[:, col].fillna(m)\n",
    "\n",
    "features = [col for col in df2.columns if col not in [\"X\", \"Y\", \"set\", \"fire\"]]\n",
    "cat_idxs = [i for i, f in enumerate(features) if f in categorical_columns]\n",
    "cat_dims = [\n",
    "    categorical_dims[f] for _, f in enumerate(features) if f in categorical_columns\n",
    "]\n",
    "\n",
    "X_all = df2[features].values\n",
    "y_all = df2[\"fire\"].values\n"
   ]
  },
  {
   "cell_type": "code",
   "execution_count": 4,
   "metadata": {},
   "outputs": [],
   "source": [
    "labels = [\n",
    "    \"건축물_용도\",\n",
    "    \"건축물_구조\",\n",
    "    \"연면적\",\n",
    "    \"용적률\",\n",
    "    \"위반건축물여부\",\n",
    "    \"강도\",\n",
    "    \"강간·강제추행\",\n",
    "    \"절도\",\n",
    "    \"폭력\",\n",
    "    \"살인\",\n",
    "    \"5대 범죄\",\n",
    "    \"반경 1km 화재\",\n",
    "    \"주변 1km² 화재\",\n",
    "    \"반경 500m 화재\",\n",
    "    \"사용승인\",\n",
    "]\n"
   ]
  },
  {
   "cell_type": "code",
   "execution_count": 5,
   "metadata": {},
   "outputs": [],
   "source": [
    "loaded = np.load(\"output/explain.npz\")\n"
   ]
  },
  {
   "cell_type": "code",
   "execution_count": 6,
   "metadata": {},
   "outputs": [],
   "source": [
    "feature_importances_ = loaded[\"feature_importances_\"]\n",
    "explain_matrix = loaded[\"explain_matrix\"]\n",
    "masks = []\n",
    "for i in range(3):\n",
    "    masks.append(loaded[f\"masks{i}\"])\n"
   ]
  },
  {
   "cell_type": "code",
   "execution_count": 7,
   "metadata": {},
   "outputs": [
    {
     "data": {
      "text/html": [
       "<div>\n",
       "<style scoped>\n",
       "    .dataframe tbody tr th:only-of-type {\n",
       "        vertical-align: middle;\n",
       "    }\n",
       "\n",
       "    .dataframe tbody tr th {\n",
       "        vertical-align: top;\n",
       "    }\n",
       "\n",
       "    .dataframe thead th {\n",
       "        text-align: right;\n",
       "    }\n",
       "</style>\n",
       "<table border=\"1\" class=\"dataframe\">\n",
       "  <thead>\n",
       "    <tr style=\"text-align: right;\">\n",
       "      <th></th>\n",
       "      <th>label</th>\n",
       "      <th>feature importance</th>\n",
       "    </tr>\n",
       "  </thead>\n",
       "  <tbody>\n",
       "    <tr>\n",
       "      <th>0</th>\n",
       "      <td>건축물_용도</td>\n",
       "      <td>0.185353</td>\n",
       "    </tr>\n",
       "    <tr>\n",
       "      <th>1</th>\n",
       "      <td>건축물_구조</td>\n",
       "      <td>0.074428</td>\n",
       "    </tr>\n",
       "    <tr>\n",
       "      <th>2</th>\n",
       "      <td>연면적</td>\n",
       "      <td>0.256922</td>\n",
       "    </tr>\n",
       "    <tr>\n",
       "      <th>3</th>\n",
       "      <td>용적률</td>\n",
       "      <td>0.072999</td>\n",
       "    </tr>\n",
       "    <tr>\n",
       "      <th>4</th>\n",
       "      <td>위반건축물여부</td>\n",
       "      <td>0.036366</td>\n",
       "    </tr>\n",
       "    <tr>\n",
       "      <th>5</th>\n",
       "      <td>강도</td>\n",
       "      <td>0.002809</td>\n",
       "    </tr>\n",
       "    <tr>\n",
       "      <th>6</th>\n",
       "      <td>강간·강제추행</td>\n",
       "      <td>0.021338</td>\n",
       "    </tr>\n",
       "    <tr>\n",
       "      <th>7</th>\n",
       "      <td>절도</td>\n",
       "      <td>0.000532</td>\n",
       "    </tr>\n",
       "    <tr>\n",
       "      <th>8</th>\n",
       "      <td>폭력</td>\n",
       "      <td>0.001294</td>\n",
       "    </tr>\n",
       "    <tr>\n",
       "      <th>9</th>\n",
       "      <td>살인</td>\n",
       "      <td>0.001451</td>\n",
       "    </tr>\n",
       "    <tr>\n",
       "      <th>10</th>\n",
       "      <td>5대 범죄</td>\n",
       "      <td>0.230097</td>\n",
       "    </tr>\n",
       "    <tr>\n",
       "      <th>11</th>\n",
       "      <td>반경 1km 화재</td>\n",
       "      <td>0.085306</td>\n",
       "    </tr>\n",
       "    <tr>\n",
       "      <th>12</th>\n",
       "      <td>주변 1km² 화재</td>\n",
       "      <td>0.004318</td>\n",
       "    </tr>\n",
       "    <tr>\n",
       "      <th>13</th>\n",
       "      <td>반경 500m 화재</td>\n",
       "      <td>0.000194</td>\n",
       "    </tr>\n",
       "    <tr>\n",
       "      <th>14</th>\n",
       "      <td>사용승인</td>\n",
       "      <td>0.026594</td>\n",
       "    </tr>\n",
       "  </tbody>\n",
       "</table>\n",
       "</div>"
      ],
      "text/plain": [
       "         label  feature importance\n",
       "0       건축물_용도            0.185353\n",
       "1       건축물_구조            0.074428\n",
       "2          연면적            0.256922\n",
       "3          용적률            0.072999\n",
       "4      위반건축물여부            0.036366\n",
       "5           강도            0.002809\n",
       "6      강간·강제추행            0.021338\n",
       "7           절도            0.000532\n",
       "8           폭력            0.001294\n",
       "9           살인            0.001451\n",
       "10       5대 범죄            0.230097\n",
       "11   반경 1km 화재            0.085306\n",
       "12  주변 1km² 화재            0.004318\n",
       "13  반경 500m 화재            0.000194\n",
       "14        사용승인            0.026594"
      ]
     },
     "execution_count": 7,
     "metadata": {},
     "output_type": "execute_result"
    }
   ],
   "source": [
    "df_feature_importances = pd.DataFrame({\"label\": labels, \"feature importance\": feature_importances_})\n",
    "df_feature_importances"
   ]
  },
  {
   "cell_type": "code",
   "execution_count": 8,
   "metadata": {},
   "outputs": [],
   "source": [
    "df_feature_importances.to_csv(\"output/feature_importances.csv\", encoding=\"utf_8_sig\")"
   ]
  },
  {
   "cell_type": "code",
   "execution_count": 23,
   "metadata": {},
   "outputs": [
    {
     "data": {
      "image/png": "[encoded data removed]",
      "text/plain": [
       "<Figure size 900x600 with 1 Axes>"
      ]
     },
     "metadata": {},
     "output_type": "display_data"
    }
   ],
   "source": [
    "plt.barh(labels, feature_importances_)\n",
    "plt.gca().invert_yaxis()\n",
    "plt.tight_layout()\n",
    "plt.savefig(\"output/feature_importances.svg\")\n",
    "plt.savefig(\"output/feature_importances.png\")\n"
   ]
  },
  {
   "cell_type": "markdown",
   "metadata": {},
   "source": [
    "변수 중요도는 연면적, 5대 범죄 종합 발생률, 용도 순"
   ]
  },
  {
   "cell_type": "code",
   "execution_count": 24,
   "metadata": {},
   "outputs": [
    {
     "data": {
      "image/png": "[encoded data removed]",
      "text/plain": [
       "<Figure size 300x600 with 1 Axes>"
      ]
     },
     "metadata": {},
     "output_type": "display_data"
    }
   ],
   "source": [
    "plt.figure(figsize=(2, 4))\n",
    "plt.imshow(explain_matrix[:50], cmap=\"Purples\")\n",
    "plt.tight_layout()\n",
    "plt.savefig(\"output/explain_matrix.svg\")\n",
    "plt.savefig(\"output/explain_matrix.png\")\n"
   ]
  },
  {
   "cell_type": "markdown",
   "metadata": {},
   "source": [
    "용도, 연면적, 5대 범죄 종합 발생률을 중심으로 다양한 변수를 고려하여 판단하고 있음."
   ]
  },
  {
   "cell_type": "code",
   "execution_count": 25,
   "metadata": {},
   "outputs": [
    {
     "data": {
      "image/png": "[encoded data removed]",
      "text/plain": [
       "<Figure size 600x600 with 3 Axes>"
      ]
     },
     "metadata": {},
     "output_type": "display_data"
    }
   ],
   "source": [
    "fig, axs = plt.subplots(1, 3, figsize=(4, 4))\n",
    "\n",
    "for i in range(3):\n",
    "    axs[i].imshow(masks[i][:50], cmap=\"Purples\")\n",
    "    axs[i].set_title(f\"mask #{i}\")\n",
    "    axs[i].set_xticks(range(len(features)))\n",
    "    axs[i].set_xticklabels([i if i % 5 == 0 else \"\" for i in range(len(features))])\n",
    "\n",
    "fig.tight_layout()\n",
    "\n",
    "plt.savefig(\"output/masks.svg\")\n",
    "plt.savefig(\"output/masks.png\")\n"
   ]
  },
  {
   "cell_type": "markdown",
   "metadata": {},
   "source": [
    "각 단계에서 함께 고려하는 변수들은 서로 강한 연관이 나타나는 경우임.\n",
    "\n",
    "첫 단계에서는 다양한 변수를 종합하여 고려하지만,\n",
    "2번째 단계에서는 건축물 용도 또는 위반건축물 여부 둘 중 하나를 더 중요하게 고려함.\n",
    "3번째 단계에서는 연면적과 5대 범죄 발생률을 동시에 고려함."
   ]
  },
  {
   "cell_type": "code",
   "execution_count": 26,
   "metadata": {},
   "outputs": [
    {
     "data": {
      "text/plain": [
       "True"
      ]
     },
     "execution_count": 26,
     "metadata": {},
     "output_type": "execute_result"
    }
   ],
   "source": [
    "np.random.seed(1106)\n",
    "df_0 = df_orig[df_orig.fire == 0].sample(n=len(df_1))\n",
    "np.random.seed(1106)\n",
    "df = pd.concat([df_1, df_0]).sample(frac=1).reset_index(drop=False, names=\"old_index\")\n",
    "np.random.seed(1106)\n",
    "df[\"set\"] = np.random.choice(\n",
    "    [\"train\", \"valid\", \"test\"], p=[0.8, 0.1, 0.1], size=len(df)\n",
    ")\n",
    "df_test = df_orig.loc[df[df.set == \"test\"].old_index]\n",
    "all(test_idx == df[df.set == \"test\"].index)\n"
   ]
  },
  {
   "cell_type": "code",
   "execution_count": 27,
   "metadata": {},
   "outputs": [
    {
     "data": {
      "text/plain": [
       "(3930,\n",
       " False    3499\n",
       " True      431\n",
       " Name: use_viol, dtype: int64)"
      ]
     },
     "execution_count": 27,
     "metadata": {},
     "output_type": "execute_result"
    }
   ],
   "source": [
    "df_test[\"use_viol\"] = masks[1][:, 0] < masks[1][:, 4]\n",
    "len(df_test), df_test.use_viol.value_counts()\n"
   ]
  },
  {
   "cell_type": "markdown",
   "metadata": {},
   "source": [
    "시험 데이터셋에서 위반건축물 여부를 용도보다 중요한 판단 기준으로 삼는 경우는 11.0%"
   ]
  },
  {
   "cell_type": "code",
   "execution_count": 28,
   "metadata": {},
   "outputs": [
    {
     "data": {
      "text/plain": [
       "use_viol  A20\n",
       "False     N      0.529449\n",
       "          Y      0.534050\n",
       "True      N      0.286445\n",
       "          Y      0.325000\n",
       "Name: fire, dtype: float64"
      ]
     },
     "execution_count": 28,
     "metadata": {},
     "output_type": "execute_result"
    }
   ],
   "source": [
    "df_test.groupby([\"use_viol\", \"A20\"]).fire.mean()\n"
   ]
  },
  {
   "cell_type": "markdown",
   "metadata": {},
   "source": [
    "위반건축물 여부를 중요한 판단 기준으로 삼는 경우는 시험 데이터셋에서 위반건축물 여부에 따라 화재 위험도가 4%p 달라지며, 이는 그렇지 않은 경우 0.5%p 차이에 비하여 높은 수준임.\n"
   ]
  },
  {
   "cell_type": "code",
   "execution_count": 29,
   "metadata": {},
   "outputs": [
    {
     "data": {
      "text/html": [
       "<div>\n",
       "<style scoped>\n",
       "    .dataframe tbody tr th:only-of-type {\n",
       "        vertical-align: middle;\n",
       "    }\n",
       "\n",
       "    .dataframe tbody tr th {\n",
       "        vertical-align: top;\n",
       "    }\n",
       "\n",
       "    .dataframe thead th {\n",
       "        text-align: right;\n",
       "    }\n",
       "</style>\n",
       "<table border=\"1\" class=\"dataframe\">\n",
       "  <thead>\n",
       "    <tr style=\"text-align: right;\">\n",
       "      <th>위반여부</th>\n",
       "      <th>미위반</th>\n",
       "      <th>위반</th>\n",
       "    </tr>\n",
       "    <tr>\n",
       "      <th>2단계 판단 기준 변수</th>\n",
       "      <th></th>\n",
       "      <th></th>\n",
       "    </tr>\n",
       "  </thead>\n",
       "  <tbody>\n",
       "    <tr>\n",
       "      <th>위반여부 사용</th>\n",
       "      <td>28.6%</td>\n",
       "      <td>32.5%</td>\n",
       "    </tr>\n",
       "    <tr>\n",
       "      <th>다른 변수(용도) 사용</th>\n",
       "      <td>52.9%</td>\n",
       "      <td>53.4%</td>\n",
       "    </tr>\n",
       "  </tbody>\n",
       "</table>\n",
       "</div>"
      ],
      "text/plain": [
       "위반여부            미위반     위반\n",
       "2단계 판단 기준 변수              \n",
       "위반여부 사용       28.6%  32.5%\n",
       "다른 변수(용도) 사용  52.9%  53.4%"
      ]
     },
     "execution_count": 29,
     "metadata": {},
     "output_type": "execute_result"
    }
   ],
   "source": [
    "pv = df_test.pivot_table(\"fire\", \"use_viol\", \"A20\", \"mean\")\n",
    "pv = pv.rename_axis(index=\"2단계 판단 기준 변수\", columns=\"위반여부\")\n",
    "pv = pv.rename(\n",
    "    index={True: \"위반여부 사용\", False: \"다른 변수(용도) 사용\"},\n",
    "    columns={\"N\": \"미위반\", \"Y\": \"위반\"},\n",
    ")\n",
    "pv = pv.sort_index(ascending=False)\n",
    "pv.applymap(lambda x: f\"{round(x*100, 1)}%\")\n"
   ]
  },
  {
   "cell_type": "code",
   "execution_count": 30,
   "metadata": {},
   "outputs": [
    {
     "data": {
      "image/png": "[encoded data removed]",
      "text/plain": [
       "<Figure size 900x600 with 1 Axes>"
      ]
     },
     "metadata": {},
     "output_type": "display_data"
    }
   ],
   "source": [
    "pv.plot.barh()\n",
    "plt.axvline(df_test.fire.mean(), color='gray')\n",
    "plt.legend(loc='upper right')\n",
    "plt.gca().invert_yaxis()\n",
    "plt.gca().xaxis.set_major_formatter(PercentFormatter(1))\n",
    "\n",
    "plt.tight_layout()\n",
    "plt.savefig(\"output/viol.svg\")\n",
    "plt.savefig(\"output/viol.png\")"
   ]
  },
  {
   "cell_type": "code",
   "execution_count": 31,
   "metadata": {},
   "outputs": [
    {
     "data": {
      "text/plain": [
       "0.5033078880407125"
      ]
     },
     "execution_count": 31,
     "metadata": {},
     "output_type": "execute_result"
    }
   ],
   "source": [
    "df_test.fire.mean()"
   ]
  },
  {
   "cell_type": "markdown",
   "metadata": {},
   "source": [
    "빨간 선: 시험 데이터셋의 화재 발생 비율 (50.3%)"
   ]
  },
  {
   "cell_type": "markdown",
   "metadata": {},
   "source": [
    "\n",
    "이렇게 TabNet 등 딥 러닝 모형은 심층신경망을 활용하여 최종 판단 결과에 여러 단계를 거쳐 간접적으로 영향을 미치는 복합적인 관계를 학습할 수 있음.\n",
    "\n",
    "딥 러닝을 활용한 예측 분석의 정확도를 높이기 위해서는 간접적인 관계를 갖는 다양한 데이터를 모두 연계할 수 있는 체계를 구축할 필요가 있음."
   ]
  }
 ],
 "metadata": {
  "kernelspec": {
   "display_name": "Python 3.9.7 ('venv': venv)",
   "language": "python",
   "name": "python3"
  },
  "language_info": {
   "codemirror_mode": {
    "name": "ipython",
    "version": 3
   },
   "file_extension": ".py",
   "mimetype": "text/x-python",
   "name": "python",
   "nbconvert_exporter": "python",
   "pygments_lexer": "ipython3",
   "version": "3.9.7"
  },
  "orig_nbformat": 4,
  "vscode": {
   "interpreter": {
    "hash": "a676689c9b7c873b1524551316a1526cd2e074beed8b735cfa6a258b44e546c0"
   }
  }
 },
 "nbformat": 4,
 "nbformat_minor": 2
}
