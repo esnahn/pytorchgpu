{
 "cells": [
  {
   "cell_type": "code",
   "execution_count": 33,
   "metadata": {},
   "outputs": [],
   "source": [
    "from pathlib import Path\n",
    "\n",
    "import numpy as np\n",
    "import pandas as pd\n",
    "from pandas.api.types import is_integer_dtype\n",
    "import matplotlib.pyplot as plt\n",
    "\n",
    "import torch\n",
    "from sklearn.preprocessing import LabelEncoder\n",
    "from sklearn.metrics import roc_auc_score\n",
    "\n",
    "from pytorch_tabnet.tab_model import TabNetClassifier\n",
    "from pytorch_tabnet.augmentations import ClassificationSMOTE\n",
    "\n",
    "plt.style.use(\"./auri.mplstyle\")"
   ]
  },
  {
   "cell_type": "markdown",
   "metadata": {},
   "source": [
    "## load data"
   ]
  },
  {
   "cell_type": "code",
   "execution_count": 34,
   "metadata": {},
   "outputs": [],
   "source": [
    "df_orig = pd.read_parquet('output/data.parquet')"
   ]
  },
  {
   "cell_type": "code",
   "execution_count": 35,
   "metadata": {},
   "outputs": [
    {
     "data": {
      "text/plain": [
       "X                float64\n",
       "Y                float64\n",
       "A8                object\n",
       "A10               object\n",
       "A13               object\n",
       "A14              float64\n",
       "A18              float64\n",
       "A19               object\n",
       "A20               object\n",
       "NEAR_DIST        float64\n",
       "fire_1km_c       float64\n",
       "fire_1km2_       float64\n",
       "fire_500m_       float64\n",
       "gd_zone          float64\n",
       "gg_zone          float64\n",
       "jd_zone          float64\n",
       "pr_zone          float64\n",
       "si_zone          float64\n",
       "crime_zone       float64\n",
       "fire               int32\n",
       "fire_1km_cnt       int64\n",
       "fire_1km2_cnt      int64\n",
       "fire_500m_cnt      int64\n",
       "year               Int64\n",
       "dtype: object"
      ]
     },
     "execution_count": 35,
     "metadata": {},
     "output_type": "execute_result"
    }
   ],
   "source": [
    "df_orig.dtypes"
   ]
  },
  {
   "cell_type": "code",
   "execution_count": 36,
   "metadata": {},
   "outputs": [
    {
     "data": {
      "text/plain": [
       "0    519631\n",
       "1     20480\n",
       "Name: fire, dtype: int64"
      ]
     },
     "execution_count": 36,
     "metadata": {},
     "output_type": "execute_result"
    }
   ],
   "source": [
    "df_orig.fire.value_counts()"
   ]
  },
  {
   "cell_type": "markdown",
   "metadata": {},
   "source": [
    "## prepare balanced dataset"
   ]
  },
  {
   "cell_type": "code",
   "execution_count": 37,
   "metadata": {},
   "outputs": [],
   "source": [
    "df_1 = df_orig[df_orig.fire == 1]\n",
    "np.random.seed(1106)\n",
    "df_0 = df_orig[df_orig.fire == 0].sample(n=len(df_1))"
   ]
  },
  {
   "cell_type": "code",
   "execution_count": 38,
   "metadata": {},
   "outputs": [
    {
     "data": {
      "text/plain": [
       "(20480, 20480)"
      ]
     },
     "execution_count": 38,
     "metadata": {},
     "output_type": "execute_result"
    }
   ],
   "source": [
    "len(df_1), len(df_0)"
   ]
  },
  {
   "cell_type": "code",
   "execution_count": 39,
   "metadata": {},
   "outputs": [
    {
     "data": {
      "text/html": [
       "<div>\n",
       "<style scoped>\n",
       "    .dataframe tbody tr th:only-of-type {\n",
       "        vertical-align: middle;\n",
       "    }\n",
       "\n",
       "    .dataframe tbody tr th {\n",
       "        vertical-align: top;\n",
       "    }\n",
       "\n",
       "    .dataframe thead th {\n",
       "        text-align: right;\n",
       "    }\n",
       "</style>\n",
       "<table border=\"1\" class=\"dataframe\">\n",
       "  <thead>\n",
       "    <tr style=\"text-align: right;\">\n",
       "      <th></th>\n",
       "      <th>A8</th>\n",
       "      <th>A10</th>\n",
       "      <th>A14</th>\n",
       "      <th>A18</th>\n",
       "      <th>A20</th>\n",
       "      <th>gd_zone</th>\n",
       "      <th>gg_zone</th>\n",
       "      <th>jd_zone</th>\n",
       "      <th>pr_zone</th>\n",
       "      <th>si_zone</th>\n",
       "      <th>crime_zone</th>\n",
       "      <th>fire</th>\n",
       "      <th>fire_1km_cnt</th>\n",
       "      <th>fire_1km2_cnt</th>\n",
       "      <th>fire_500m_cnt</th>\n",
       "      <th>year</th>\n",
       "    </tr>\n",
       "  </thead>\n",
       "  <tbody>\n",
       "    <tr>\n",
       "      <th>0</th>\n",
       "      <td>01000</td>\n",
       "      <td>11</td>\n",
       "      <td>187.74</td>\n",
       "      <td>99.80000</td>\n",
       "      <td>N</td>\n",
       "      <td>0.00000</td>\n",
       "      <td>0.000000</td>\n",
       "      <td>0.000681</td>\n",
       "      <td>0.000787</td>\n",
       "      <td>0.00000</td>\n",
       "      <td>0.001468</td>\n",
       "      <td>0</td>\n",
       "      <td>294</td>\n",
       "      <td>102</td>\n",
       "      <td>85</td>\n",
       "      <td>1989</td>\n",
       "    </tr>\n",
       "    <tr>\n",
       "      <th>1</th>\n",
       "      <td>01000</td>\n",
       "      <td>19</td>\n",
       "      <td>95.87</td>\n",
       "      <td>0.00000</td>\n",
       "      <td>N</td>\n",
       "      <td>0.00000</td>\n",
       "      <td>0.000000</td>\n",
       "      <td>0.000030</td>\n",
       "      <td>0.000028</td>\n",
       "      <td>0.00000</td>\n",
       "      <td>0.000058</td>\n",
       "      <td>0</td>\n",
       "      <td>23</td>\n",
       "      <td>6</td>\n",
       "      <td>5</td>\n",
       "      <td>&lt;NA&gt;</td>\n",
       "    </tr>\n",
       "    <tr>\n",
       "      <th>2</th>\n",
       "      <td>01000</td>\n",
       "      <td>21</td>\n",
       "      <td>271.68</td>\n",
       "      <td>245.47000</td>\n",
       "      <td>N</td>\n",
       "      <td>0.00000</td>\n",
       "      <td>0.000000</td>\n",
       "      <td>0.000524</td>\n",
       "      <td>0.000395</td>\n",
       "      <td>0.00000</td>\n",
       "      <td>0.000919</td>\n",
       "      <td>0</td>\n",
       "      <td>156</td>\n",
       "      <td>45</td>\n",
       "      <td>33</td>\n",
       "      <td>2007</td>\n",
       "    </tr>\n",
       "    <tr>\n",
       "      <th>3</th>\n",
       "      <td>04000</td>\n",
       "      <td>21</td>\n",
       "      <td>668.21</td>\n",
       "      <td>189.05000</td>\n",
       "      <td>N</td>\n",
       "      <td>0.00000</td>\n",
       "      <td>0.000042</td>\n",
       "      <td>0.001175</td>\n",
       "      <td>0.001340</td>\n",
       "      <td>0.00000</td>\n",
       "      <td>0.002558</td>\n",
       "      <td>0</td>\n",
       "      <td>43</td>\n",
       "      <td>26</td>\n",
       "      <td>19</td>\n",
       "      <td>1992</td>\n",
       "    </tr>\n",
       "    <tr>\n",
       "      <th>4</th>\n",
       "      <td>03000</td>\n",
       "      <td>21</td>\n",
       "      <td>283.06</td>\n",
       "      <td>0.00000</td>\n",
       "      <td>N</td>\n",
       "      <td>0.00000</td>\n",
       "      <td>0.000088</td>\n",
       "      <td>0.000458</td>\n",
       "      <td>0.000871</td>\n",
       "      <td>0.00000</td>\n",
       "      <td>0.001417</td>\n",
       "      <td>1</td>\n",
       "      <td>115</td>\n",
       "      <td>40</td>\n",
       "      <td>36</td>\n",
       "      <td>1991</td>\n",
       "    </tr>\n",
       "    <tr>\n",
       "      <th>...</th>\n",
       "      <td>...</td>\n",
       "      <td>...</td>\n",
       "      <td>...</td>\n",
       "      <td>...</td>\n",
       "      <td>...</td>\n",
       "      <td>...</td>\n",
       "      <td>...</td>\n",
       "      <td>...</td>\n",
       "      <td>...</td>\n",
       "      <td>...</td>\n",
       "      <td>...</td>\n",
       "      <td>...</td>\n",
       "      <td>...</td>\n",
       "      <td>...</td>\n",
       "      <td>...</td>\n",
       "      <td>...</td>\n",
       "    </tr>\n",
       "    <tr>\n",
       "      <th>40955</th>\n",
       "      <td>01000</td>\n",
       "      <td>11</td>\n",
       "      <td>69.28</td>\n",
       "      <td>49.84000</td>\n",
       "      <td>N</td>\n",
       "      <td>0.00000</td>\n",
       "      <td>0.000000</td>\n",
       "      <td>0.000108</td>\n",
       "      <td>0.000214</td>\n",
       "      <td>0.00000</td>\n",
       "      <td>0.000322</td>\n",
       "      <td>0</td>\n",
       "      <td>165</td>\n",
       "      <td>60</td>\n",
       "      <td>48</td>\n",
       "      <td>1968</td>\n",
       "    </tr>\n",
       "    <tr>\n",
       "      <th>40956</th>\n",
       "      <td>04000</td>\n",
       "      <td>21</td>\n",
       "      <td>426.90</td>\n",
       "      <td>182.89733</td>\n",
       "      <td>N</td>\n",
       "      <td>0.00000</td>\n",
       "      <td>0.000138</td>\n",
       "      <td>0.002093</td>\n",
       "      <td>0.001374</td>\n",
       "      <td>0.00000</td>\n",
       "      <td>0.003605</td>\n",
       "      <td>1</td>\n",
       "      <td>186</td>\n",
       "      <td>98</td>\n",
       "      <td>86</td>\n",
       "      <td>1995</td>\n",
       "    </tr>\n",
       "    <tr>\n",
       "      <th>40957</th>\n",
       "      <td>04000</td>\n",
       "      <td>21</td>\n",
       "      <td>630.95</td>\n",
       "      <td>0.00000</td>\n",
       "      <td>N</td>\n",
       "      <td>0.00001</td>\n",
       "      <td>0.000742</td>\n",
       "      <td>0.001291</td>\n",
       "      <td>0.001512</td>\n",
       "      <td>0.00001</td>\n",
       "      <td>0.003564</td>\n",
       "      <td>1</td>\n",
       "      <td>140</td>\n",
       "      <td>62</td>\n",
       "      <td>57</td>\n",
       "      <td>1990</td>\n",
       "    </tr>\n",
       "    <tr>\n",
       "      <th>40958</th>\n",
       "      <td>02000</td>\n",
       "      <td>21</td>\n",
       "      <td>308.90</td>\n",
       "      <td>243.70000</td>\n",
       "      <td>N</td>\n",
       "      <td>0.00000</td>\n",
       "      <td>0.000047</td>\n",
       "      <td>0.000385</td>\n",
       "      <td>0.000431</td>\n",
       "      <td>0.00000</td>\n",
       "      <td>0.000863</td>\n",
       "      <td>0</td>\n",
       "      <td>127</td>\n",
       "      <td>38</td>\n",
       "      <td>34</td>\n",
       "      <td>1995</td>\n",
       "    </tr>\n",
       "    <tr>\n",
       "      <th>40959</th>\n",
       "      <td>01000</td>\n",
       "      <td>11</td>\n",
       "      <td>148.20</td>\n",
       "      <td>0.00000</td>\n",
       "      <td>N</td>\n",
       "      <td>0.00000</td>\n",
       "      <td>0.000000</td>\n",
       "      <td>0.000457</td>\n",
       "      <td>0.000977</td>\n",
       "      <td>0.00000</td>\n",
       "      <td>0.001433</td>\n",
       "      <td>0</td>\n",
       "      <td>170</td>\n",
       "      <td>78</td>\n",
       "      <td>68</td>\n",
       "      <td>1967</td>\n",
       "    </tr>\n",
       "  </tbody>\n",
       "</table>\n",
       "<p>40960 rows × 16 columns</p>\n",
       "</div>"
      ],
      "text/plain": [
       "          A8 A10     A14        A18 A20  gd_zone   gg_zone   jd_zone  \\\n",
       "0      01000  11  187.74   99.80000   N  0.00000  0.000000  0.000681   \n",
       "1      01000  19   95.87    0.00000   N  0.00000  0.000000  0.000030   \n",
       "2      01000  21  271.68  245.47000   N  0.00000  0.000000  0.000524   \n",
       "3      04000  21  668.21  189.05000   N  0.00000  0.000042  0.001175   \n",
       "4      03000  21  283.06    0.00000   N  0.00000  0.000088  0.000458   \n",
       "...      ...  ..     ...        ...  ..      ...       ...       ...   \n",
       "40955  01000  11   69.28   49.84000   N  0.00000  0.000000  0.000108   \n",
       "40956  04000  21  426.90  182.89733   N  0.00000  0.000138  0.002093   \n",
       "40957  04000  21  630.95    0.00000   N  0.00001  0.000742  0.001291   \n",
       "40958  02000  21  308.90  243.70000   N  0.00000  0.000047  0.000385   \n",
       "40959  01000  11  148.20    0.00000   N  0.00000  0.000000  0.000457   \n",
       "\n",
       "        pr_zone  si_zone  crime_zone  fire  fire_1km_cnt  fire_1km2_cnt  \\\n",
       "0      0.000787  0.00000    0.001468     0           294            102   \n",
       "1      0.000028  0.00000    0.000058     0            23              6   \n",
       "2      0.000395  0.00000    0.000919     0           156             45   \n",
       "3      0.001340  0.00000    0.002558     0            43             26   \n",
       "4      0.000871  0.00000    0.001417     1           115             40   \n",
       "...         ...      ...         ...   ...           ...            ...   \n",
       "40955  0.000214  0.00000    0.000322     0           165             60   \n",
       "40956  0.001374  0.00000    0.003605     1           186             98   \n",
       "40957  0.001512  0.00001    0.003564     1           140             62   \n",
       "40958  0.000431  0.00000    0.000863     0           127             38   \n",
       "40959  0.000977  0.00000    0.001433     0           170             78   \n",
       "\n",
       "       fire_500m_cnt  year  \n",
       "0                 85  1989  \n",
       "1                  5  <NA>  \n",
       "2                 33  2007  \n",
       "3                 19  1992  \n",
       "4                 36  1991  \n",
       "...              ...   ...  \n",
       "40955             48  1968  \n",
       "40956             86  1995  \n",
       "40957             57  1990  \n",
       "40958             34  1995  \n",
       "40959             68  1967  \n",
       "\n",
       "[40960 rows x 16 columns]"
      ]
     },
     "execution_count": 39,
     "metadata": {},
     "output_type": "execute_result"
    }
   ],
   "source": [
    "np.random.seed(1106)\n",
    "df = pd.concat([df_1, df_0]).sample(frac=1).reset_index(drop=True)\n",
    "df = df[['A8', 'A10', 'A14', 'A18', 'A20', 'gd_zone', 'gg_zone',\n",
    "       'jd_zone', 'pr_zone', 'si_zone', 'crime_zone', 'fire', 'fire_1km_cnt',\n",
    "       'fire_1km2_cnt', 'fire_500m_cnt', 'year']]\n",
    "df"
   ]
  },
  {
   "cell_type": "code",
   "execution_count": 40,
   "metadata": {},
   "outputs": [
    {
     "data": {
      "text/html": [
       "<div>\n",
       "<style scoped>\n",
       "    .dataframe tbody tr th:only-of-type {\n",
       "        vertical-align: middle;\n",
       "    }\n",
       "\n",
       "    .dataframe tbody tr th {\n",
       "        vertical-align: top;\n",
       "    }\n",
       "\n",
       "    .dataframe thead th {\n",
       "        text-align: right;\n",
       "    }\n",
       "</style>\n",
       "<table border=\"1\" class=\"dataframe\">\n",
       "  <thead>\n",
       "    <tr style=\"text-align: right;\">\n",
       "      <th></th>\n",
       "      <th>fire</th>\n",
       "      <th>set</th>\n",
       "    </tr>\n",
       "  </thead>\n",
       "  <tbody>\n",
       "    <tr>\n",
       "      <th>0</th>\n",
       "      <td>0</td>\n",
       "      <td>train</td>\n",
       "    </tr>\n",
       "    <tr>\n",
       "      <th>1</th>\n",
       "      <td>0</td>\n",
       "      <td>train</td>\n",
       "    </tr>\n",
       "    <tr>\n",
       "      <th>2</th>\n",
       "      <td>0</td>\n",
       "      <td>test</td>\n",
       "    </tr>\n",
       "    <tr>\n",
       "      <th>3</th>\n",
       "      <td>0</td>\n",
       "      <td>valid</td>\n",
       "    </tr>\n",
       "    <tr>\n",
       "      <th>4</th>\n",
       "      <td>1</td>\n",
       "      <td>train</td>\n",
       "    </tr>\n",
       "    <tr>\n",
       "      <th>5</th>\n",
       "      <td>0</td>\n",
       "      <td>train</td>\n",
       "    </tr>\n",
       "    <tr>\n",
       "      <th>6</th>\n",
       "      <td>1</td>\n",
       "      <td>train</td>\n",
       "    </tr>\n",
       "    <tr>\n",
       "      <th>7</th>\n",
       "      <td>0</td>\n",
       "      <td>train</td>\n",
       "    </tr>\n",
       "    <tr>\n",
       "      <th>8</th>\n",
       "      <td>1</td>\n",
       "      <td>valid</td>\n",
       "    </tr>\n",
       "    <tr>\n",
       "      <th>9</th>\n",
       "      <td>0</td>\n",
       "      <td>train</td>\n",
       "    </tr>\n",
       "    <tr>\n",
       "      <th>10</th>\n",
       "      <td>1</td>\n",
       "      <td>train</td>\n",
       "    </tr>\n",
       "    <tr>\n",
       "      <th>11</th>\n",
       "      <td>0</td>\n",
       "      <td>test</td>\n",
       "    </tr>\n",
       "    <tr>\n",
       "      <th>12</th>\n",
       "      <td>0</td>\n",
       "      <td>train</td>\n",
       "    </tr>\n",
       "    <tr>\n",
       "      <th>13</th>\n",
       "      <td>0</td>\n",
       "      <td>train</td>\n",
       "    </tr>\n",
       "    <tr>\n",
       "      <th>14</th>\n",
       "      <td>1</td>\n",
       "      <td>train</td>\n",
       "    </tr>\n",
       "    <tr>\n",
       "      <th>15</th>\n",
       "      <td>1</td>\n",
       "      <td>test</td>\n",
       "    </tr>\n",
       "    <tr>\n",
       "      <th>16</th>\n",
       "      <td>1</td>\n",
       "      <td>train</td>\n",
       "    </tr>\n",
       "    <tr>\n",
       "      <th>17</th>\n",
       "      <td>1</td>\n",
       "      <td>train</td>\n",
       "    </tr>\n",
       "    <tr>\n",
       "      <th>18</th>\n",
       "      <td>1</td>\n",
       "      <td>train</td>\n",
       "    </tr>\n",
       "    <tr>\n",
       "      <th>19</th>\n",
       "      <td>0</td>\n",
       "      <td>train</td>\n",
       "    </tr>\n",
       "    <tr>\n",
       "      <th>20</th>\n",
       "      <td>0</td>\n",
       "      <td>train</td>\n",
       "    </tr>\n",
       "    <tr>\n",
       "      <th>21</th>\n",
       "      <td>1</td>\n",
       "      <td>test</td>\n",
       "    </tr>\n",
       "    <tr>\n",
       "      <th>22</th>\n",
       "      <td>0</td>\n",
       "      <td>train</td>\n",
       "    </tr>\n",
       "    <tr>\n",
       "      <th>23</th>\n",
       "      <td>1</td>\n",
       "      <td>train</td>\n",
       "    </tr>\n",
       "    <tr>\n",
       "      <th>24</th>\n",
       "      <td>1</td>\n",
       "      <td>train</td>\n",
       "    </tr>\n",
       "    <tr>\n",
       "      <th>25</th>\n",
       "      <td>0</td>\n",
       "      <td>train</td>\n",
       "    </tr>\n",
       "    <tr>\n",
       "      <th>26</th>\n",
       "      <td>0</td>\n",
       "      <td>train</td>\n",
       "    </tr>\n",
       "    <tr>\n",
       "      <th>27</th>\n",
       "      <td>0</td>\n",
       "      <td>train</td>\n",
       "    </tr>\n",
       "    <tr>\n",
       "      <th>28</th>\n",
       "      <td>1</td>\n",
       "      <td>train</td>\n",
       "    </tr>\n",
       "    <tr>\n",
       "      <th>29</th>\n",
       "      <td>0</td>\n",
       "      <td>train</td>\n",
       "    </tr>\n",
       "  </tbody>\n",
       "</table>\n",
       "</div>"
      ],
      "text/plain": [
       "    fire    set\n",
       "0      0  train\n",
       "1      0  train\n",
       "2      0   test\n",
       "3      0  valid\n",
       "4      1  train\n",
       "5      0  train\n",
       "6      1  train\n",
       "7      0  train\n",
       "8      1  valid\n",
       "9      0  train\n",
       "10     1  train\n",
       "11     0   test\n",
       "12     0  train\n",
       "13     0  train\n",
       "14     1  train\n",
       "15     1   test\n",
       "16     1  train\n",
       "17     1  train\n",
       "18     1  train\n",
       "19     0  train\n",
       "20     0  train\n",
       "21     1   test\n",
       "22     0  train\n",
       "23     1  train\n",
       "24     1  train\n",
       "25     0  train\n",
       "26     0  train\n",
       "27     0  train\n",
       "28     1  train\n",
       "29     0  train"
      ]
     },
     "execution_count": 40,
     "metadata": {},
     "output_type": "execute_result"
    }
   ],
   "source": [
    "np.random.seed(1106)\n",
    "df[\"set\"] = np.random.choice(['train', 'valid', 'test'], p=[.8, .1, .1], size=len(df))\n",
    "\n",
    "df[[\"fire\", \"set\"]].head(30)"
   ]
  },
  {
   "cell_type": "code",
   "execution_count": 41,
   "metadata": {},
   "outputs": [],
   "source": [
    "train_idx = df[df.set == \"train\"].index\n",
    "valid_idx = df[df.set == \"valid\"].index\n",
    "test_idx = df[df.set == \"test\"].index"
   ]
  },
  {
   "cell_type": "code",
   "execution_count": 42,
   "metadata": {},
   "outputs": [
    {
     "data": {
      "text/plain": [
       "Index(['A8', 'A10', 'A14', 'A18', 'A20', 'gd_zone', 'gg_zone', 'jd_zone',\n",
       "       'pr_zone', 'si_zone', 'crime_zone', 'fire', 'fire_1km_cnt',\n",
       "       'fire_1km2_cnt', 'fire_500m_cnt', 'year', 'set'],\n",
       "      dtype='object')"
      ]
     },
     "execution_count": 42,
     "metadata": {},
     "output_type": "execute_result"
    }
   ],
   "source": [
    "df.columns"
   ]
  },
  {
   "cell_type": "code",
   "execution_count": 43,
   "metadata": {},
   "outputs": [
    {
     "name": "stdout",
     "output_type": "stream",
     "text": [
      "A8 32\n",
      "A10 21\n",
      "A20 2\n",
      "fire 2\n",
      "{'A8': array(['01000', '02000', '03000', '04000', '05000', '06000', '07000',\n",
      "       '08000', '09000', '10000', '11000', '12000', '13000', '14000',\n",
      "       '15000', '16000', '17000', '18000', '19000', '20000', '21000',\n",
      "       '22000', '23000', '24000', '25000', '26000', '27000', '29000',\n",
      "       '31000', 'N_A', 'Z3000', 'Z5000', 'Z6000', 'Z8000', 'Z9000'],\n",
      "      dtype=object), 'A10': array(['10', '11', '12', '13', '19', '21', '22', '26', '29', '30', '31',\n",
      "       '32', '33', '37', '39', '40', '41', '42', '43', '49', '50', '51',\n",
      "       '52', '53', '61', '63', '74', '99', 'N_A'], dtype=object), 'A20': array(['N', 'N_A', 'Y'], dtype=object), 'fire': array([0, 1])}\n"
     ]
    }
   ],
   "source": [
    "categorical_columns = [\"A8\", \"A10\", \"A20\", \"fire\"]\n",
    "categorical_classes = {}\n",
    "categorical_dims = {}\n",
    "\n",
    "for col in categorical_columns:\n",
    "    print(col, df[col].nunique())\n",
    "    l_enc = LabelEncoder()\n",
    "    l_enc.fit(df_orig[col].fillna(\"N_A\").values)\n",
    "    df[col] = df[col].fillna(\"N_A\")\n",
    "    df[col] = l_enc.transform(df[col].values)\n",
    "    categorical_classes[col] = l_enc.classes_\n",
    "    categorical_dims[col] = len(l_enc.classes_)\n",
    "\n",
    "print(categorical_classes)\n"
   ]
  },
  {
   "cell_type": "code",
   "execution_count": 44,
   "metadata": {},
   "outputs": [
    {
     "data": {
      "text/plain": [
       "A8                 int32\n",
       "A10                int32\n",
       "A14              float64\n",
       "A18              float64\n",
       "A20                int32\n",
       "gd_zone          float64\n",
       "gg_zone          float64\n",
       "jd_zone          float64\n",
       "pr_zone          float64\n",
       "si_zone          float64\n",
       "crime_zone       float64\n",
       "fire               int64\n",
       "fire_1km_cnt       int64\n",
       "fire_1km2_cnt      int64\n",
       "fire_500m_cnt      int64\n",
       "year               Int64\n",
       "set               object\n",
       "dtype: object"
      ]
     },
     "execution_count": 44,
     "metadata": {},
     "output_type": "execute_result"
    }
   ],
   "source": [
    "df.dtypes"
   ]
  },
  {
   "cell_type": "code",
   "execution_count": 45,
   "metadata": {},
   "outputs": [],
   "source": [
    "numerical_columns = [\n",
    "    \"A14\",\n",
    "    \"A18\",\n",
    "    \"fire_1km_cnt\",\n",
    "    \"fire_1km2_cnt\",\n",
    "    \"fire_500m_cnt\",\n",
    "    \"crime_zone\",\n",
    "    \"gd_zone\",\n",
    "    \"gg_zone\",\n",
    "    \"jd_zone\",\n",
    "    \"pr_zone\",\n",
    "    \"si_zone\",\n",
    "    \"year\",\n",
    "]\n",
    "\n",
    "df[numerical_columns] = df[numerical_columns].astype(float)\n",
    "for col in numerical_columns:\n",
    "    m_train = df.loc[train_idx,col].mean()\n",
    "    m_valid = df.loc[valid_idx,col].mean()\n",
    "    m_test = df.loc[test_idx,col].mean()\n",
    "    df.loc[train_idx,col] = df.loc[train_idx,col].fillna(m_train)\n",
    "    df.loc[valid_idx,col] = df.loc[valid_idx,col].fillna(m_valid)\n",
    "    df.loc[test_idx,col] = df.loc[test_idx,col].fillna(m_test)"
   ]
  },
  {
   "cell_type": "code",
   "execution_count": 46,
   "metadata": {},
   "outputs": [
    {
     "data": {
      "text/plain": [
       "A8                 int32\n",
       "A10                int32\n",
       "A14              float64\n",
       "A18              float64\n",
       "A20                int32\n",
       "gd_zone          float64\n",
       "gg_zone          float64\n",
       "jd_zone          float64\n",
       "pr_zone          float64\n",
       "si_zone          float64\n",
       "crime_zone       float64\n",
       "fire               int64\n",
       "fire_1km_cnt     float64\n",
       "fire_1km2_cnt    float64\n",
       "fire_500m_cnt    float64\n",
       "year             float64\n",
       "set               object\n",
       "dtype: object"
      ]
     },
     "execution_count": 46,
     "metadata": {},
     "output_type": "execute_result"
    }
   ],
   "source": [
    "df.dtypes"
   ]
  },
  {
   "cell_type": "code",
   "execution_count": 47,
   "metadata": {},
   "outputs": [
    {
     "data": {
      "text/plain": [
       "A8               False\n",
       "A10              False\n",
       "A14              False\n",
       "A18              False\n",
       "A20              False\n",
       "gd_zone          False\n",
       "gg_zone          False\n",
       "jd_zone          False\n",
       "pr_zone          False\n",
       "si_zone          False\n",
       "crime_zone       False\n",
       "fire             False\n",
       "fire_1km_cnt     False\n",
       "fire_1km2_cnt    False\n",
       "fire_500m_cnt    False\n",
       "year             False\n",
       "set              False\n",
       "dtype: bool"
      ]
     },
     "execution_count": 47,
     "metadata": {},
     "output_type": "execute_result"
    }
   ],
   "source": [
    "df.isna().any()"
   ]
  },
  {
   "cell_type": "code",
   "execution_count": 48,
   "metadata": {},
   "outputs": [
    {
     "data": {
      "text/html": [
       "<div>\n",
       "<style scoped>\n",
       "    .dataframe tbody tr th:only-of-type {\n",
       "        vertical-align: middle;\n",
       "    }\n",
       "\n",
       "    .dataframe tbody tr th {\n",
       "        vertical-align: top;\n",
       "    }\n",
       "\n",
       "    .dataframe thead th {\n",
       "        text-align: right;\n",
       "    }\n",
       "</style>\n",
       "<table border=\"1\" class=\"dataframe\">\n",
       "  <thead>\n",
       "    <tr style=\"text-align: right;\">\n",
       "      <th></th>\n",
       "      <th>A8</th>\n",
       "      <th>A10</th>\n",
       "      <th>A14</th>\n",
       "      <th>A18</th>\n",
       "      <th>A20</th>\n",
       "      <th>gd_zone</th>\n",
       "      <th>gg_zone</th>\n",
       "      <th>jd_zone</th>\n",
       "      <th>pr_zone</th>\n",
       "      <th>si_zone</th>\n",
       "      <th>crime_zone</th>\n",
       "      <th>fire</th>\n",
       "      <th>fire_1km_cnt</th>\n",
       "      <th>fire_1km2_cnt</th>\n",
       "      <th>fire_500m_cnt</th>\n",
       "      <th>year</th>\n",
       "      <th>set</th>\n",
       "    </tr>\n",
       "  </thead>\n",
       "  <tbody>\n",
       "    <tr>\n",
       "      <th>0</th>\n",
       "      <td>0</td>\n",
       "      <td>1</td>\n",
       "      <td>187.74</td>\n",
       "      <td>99.80</td>\n",
       "      <td>0</td>\n",
       "      <td>0.0</td>\n",
       "      <td>0.000000</td>\n",
       "      <td>0.000681</td>\n",
       "      <td>0.000787</td>\n",
       "      <td>0.0</td>\n",
       "      <td>0.001468</td>\n",
       "      <td>0</td>\n",
       "      <td>294.0</td>\n",
       "      <td>102.0</td>\n",
       "      <td>85.0</td>\n",
       "      <td>1989.000000</td>\n",
       "      <td>train</td>\n",
       "    </tr>\n",
       "    <tr>\n",
       "      <th>1</th>\n",
       "      <td>0</td>\n",
       "      <td>4</td>\n",
       "      <td>95.87</td>\n",
       "      <td>0.00</td>\n",
       "      <td>0</td>\n",
       "      <td>0.0</td>\n",
       "      <td>0.000000</td>\n",
       "      <td>0.000030</td>\n",
       "      <td>0.000028</td>\n",
       "      <td>0.0</td>\n",
       "      <td>0.000058</td>\n",
       "      <td>0</td>\n",
       "      <td>23.0</td>\n",
       "      <td>6.0</td>\n",
       "      <td>5.0</td>\n",
       "      <td>1990.798931</td>\n",
       "      <td>train</td>\n",
       "    </tr>\n",
       "    <tr>\n",
       "      <th>2</th>\n",
       "      <td>0</td>\n",
       "      <td>5</td>\n",
       "      <td>271.68</td>\n",
       "      <td>245.47</td>\n",
       "      <td>0</td>\n",
       "      <td>0.0</td>\n",
       "      <td>0.000000</td>\n",
       "      <td>0.000524</td>\n",
       "      <td>0.000395</td>\n",
       "      <td>0.0</td>\n",
       "      <td>0.000919</td>\n",
       "      <td>0</td>\n",
       "      <td>156.0</td>\n",
       "      <td>45.0</td>\n",
       "      <td>33.0</td>\n",
       "      <td>2007.000000</td>\n",
       "      <td>test</td>\n",
       "    </tr>\n",
       "    <tr>\n",
       "      <th>3</th>\n",
       "      <td>3</td>\n",
       "      <td>5</td>\n",
       "      <td>668.21</td>\n",
       "      <td>189.05</td>\n",
       "      <td>0</td>\n",
       "      <td>0.0</td>\n",
       "      <td>0.000042</td>\n",
       "      <td>0.001175</td>\n",
       "      <td>0.001340</td>\n",
       "      <td>0.0</td>\n",
       "      <td>0.002558</td>\n",
       "      <td>0</td>\n",
       "      <td>43.0</td>\n",
       "      <td>26.0</td>\n",
       "      <td>19.0</td>\n",
       "      <td>1992.000000</td>\n",
       "      <td>valid</td>\n",
       "    </tr>\n",
       "    <tr>\n",
       "      <th>4</th>\n",
       "      <td>2</td>\n",
       "      <td>5</td>\n",
       "      <td>283.06</td>\n",
       "      <td>0.00</td>\n",
       "      <td>0</td>\n",
       "      <td>0.0</td>\n",
       "      <td>0.000088</td>\n",
       "      <td>0.000458</td>\n",
       "      <td>0.000871</td>\n",
       "      <td>0.0</td>\n",
       "      <td>0.001417</td>\n",
       "      <td>1</td>\n",
       "      <td>115.0</td>\n",
       "      <td>40.0</td>\n",
       "      <td>36.0</td>\n",
       "      <td>1991.000000</td>\n",
       "      <td>train</td>\n",
       "    </tr>\n",
       "  </tbody>\n",
       "</table>\n",
       "</div>"
      ],
      "text/plain": [
       "   A8  A10     A14     A18  A20  gd_zone   gg_zone   jd_zone   pr_zone  \\\n",
       "0   0    1  187.74   99.80    0      0.0  0.000000  0.000681  0.000787   \n",
       "1   0    4   95.87    0.00    0      0.0  0.000000  0.000030  0.000028   \n",
       "2   0    5  271.68  245.47    0      0.0  0.000000  0.000524  0.000395   \n",
       "3   3    5  668.21  189.05    0      0.0  0.000042  0.001175  0.001340   \n",
       "4   2    5  283.06    0.00    0      0.0  0.000088  0.000458  0.000871   \n",
       "\n",
       "   si_zone  crime_zone  fire  fire_1km_cnt  fire_1km2_cnt  fire_500m_cnt  \\\n",
       "0      0.0    0.001468     0         294.0          102.0           85.0   \n",
       "1      0.0    0.000058     0          23.0            6.0            5.0   \n",
       "2      0.0    0.000919     0         156.0           45.0           33.0   \n",
       "3      0.0    0.002558     0          43.0           26.0           19.0   \n",
       "4      0.0    0.001417     1         115.0           40.0           36.0   \n",
       "\n",
       "          year    set  \n",
       "0  1989.000000  train  \n",
       "1  1990.798931  train  \n",
       "2  2007.000000   test  \n",
       "3  1992.000000  valid  \n",
       "4  1991.000000  train  "
      ]
     },
     "execution_count": 48,
     "metadata": {},
     "output_type": "execute_result"
    }
   ],
   "source": [
    "df.head()"
   ]
  },
  {
   "cell_type": "markdown",
   "metadata": {},
   "source": [
    "## features for categorical embeddings"
   ]
  },
  {
   "cell_type": "code",
   "execution_count": 49,
   "metadata": {},
   "outputs": [],
   "source": [
    "features = [col for col in df.columns if col not in [\"set\", \"fire\"]]\n",
    "cat_idxs = [i for i, f in enumerate(features) if f in categorical_columns]\n",
    "cat_dims = [categorical_dims[f] for _, f in enumerate(features) if f in categorical_columns]"
   ]
  },
  {
   "cell_type": "markdown",
   "metadata": {},
   "source": [
    "## tabnet parameters"
   ]
  },
  {
   "cell_type": "code",
   "execution_count": 50,
   "metadata": {},
   "outputs": [
    {
     "name": "stderr",
     "output_type": "stream",
     "text": [
      "c:\\Users\\USER\\Documents\\pytorchgpu\\venv\\lib\\site-packages\\pytorch_tabnet\\abstract_model.py:75: UserWarning: Device used : cuda\n",
      "  warnings.warn(f\"Device used : {self.device}\")\n"
     ]
    }
   ],
   "source": [
    "tabnet_params = {\n",
    "    \"cat_idxs\": cat_idxs,\n",
    "    \"cat_dims\": cat_dims,\n",
    "    \"cat_emb_dim\": 1,\n",
    "    \"optimizer_fn\": torch.optim.Adam,\n",
    "    \"optimizer_params\": dict(lr=2e-2),\n",
    "    \"scheduler_params\": {\n",
    "        \"step_size\": 50,  # how to use learning rate scheduler\n",
    "        \"gamma\": 0.9,\n",
    "    },\n",
    "    \"scheduler_fn\": torch.optim.lr_scheduler.StepLR,\n",
    "    \"mask_type\": \"entmax\",  # \"sparsemax\"\n",
    "}\n",
    "\n",
    "clf = TabNetClassifier(**tabnet_params)"
   ]
  },
  {
   "cell_type": "code",
   "execution_count": 51,
   "metadata": {},
   "outputs": [],
   "source": [
    "X_train = df[features].values[train_idx]\n",
    "X_valid = df[features].values[valid_idx]\n",
    "X_test = df[features].values[test_idx]\n",
    "\n",
    "y_train = df[\"fire\"].values[train_idx]\n",
    "y_valid = df[\"fire\"].values[valid_idx]\n",
    "y_test = df[\"fire\"].values[test_idx]\n"
   ]
  },
  {
   "cell_type": "code",
   "execution_count": 52,
   "metadata": {},
   "outputs": [],
   "source": [
    "aug = ClassificationSMOTE(p=0.2)"
   ]
  },
  {
   "cell_type": "code",
   "execution_count": 53,
   "metadata": {},
   "outputs": [
    {
     "name": "stdout",
     "output_type": "stream",
     "text": [
      "epoch 0  | loss: 0.73704 | train_auc: 0.47318 | valid_auc: 0.46698 |  0:00:01s\n",
      "epoch 1  | loss: 0.67624 | train_auc: 0.6183  | valid_auc: 0.63366 |  0:00:03s\n",
      "epoch 2  | loss: 0.66401 | train_auc: 0.63633 | valid_auc: 0.6515  |  0:00:05s\n",
      "epoch 3  | loss: 0.66118 | train_auc: 0.63926 | valid_auc: 0.65512 |  0:00:07s\n",
      "epoch 4  | loss: 0.66056 | train_auc: 0.64094 | valid_auc: 0.657   |  0:00:09s\n",
      "epoch 5  | loss: 0.66004 | train_auc: 0.63796 | valid_auc: 0.65265 |  0:00:10s\n",
      "epoch 6  | loss: 0.66151 | train_auc: 0.64009 | valid_auc: 0.65509 |  0:00:12s\n",
      "epoch 7  | loss: 0.66019 | train_auc: 0.63996 | valid_auc: 0.65379 |  0:00:14s\n",
      "epoch 8  | loss: 0.65672 | train_auc: 0.63997 | valid_auc: 0.65281 |  0:00:16s\n",
      "epoch 9  | loss: 0.66042 | train_auc: 0.64367 | valid_auc: 0.65479 |  0:00:17s\n",
      "epoch 10 | loss: 0.66032 | train_auc: 0.64513 | valid_auc: 0.65635 |  0:00:19s\n",
      "epoch 11 | loss: 0.65909 | train_auc: 0.64714 | valid_auc: 0.65913 |  0:00:21s\n",
      "epoch 12 | loss: 0.65853 | train_auc: 0.64636 | valid_auc: 0.65687 |  0:00:23s\n",
      "epoch 13 | loss: 0.65916 | train_auc: 0.64918 | valid_auc: 0.66002 |  0:00:24s\n",
      "epoch 14 | loss: 0.65694 | train_auc: 0.64696 | valid_auc: 0.6601  |  0:00:26s\n",
      "epoch 15 | loss: 0.65707 | train_auc: 0.64621 | valid_auc: 0.66235 |  0:00:28s\n",
      "epoch 16 | loss: 0.65968 | train_auc: 0.64703 | valid_auc: 0.66337 |  0:00:30s\n",
      "epoch 17 | loss: 0.6609  | train_auc: 0.64965 | valid_auc: 0.66241 |  0:00:31s\n",
      "epoch 18 | loss: 0.65956 | train_auc: 0.64832 | valid_auc: 0.66398 |  0:00:33s\n",
      "epoch 19 | loss: 0.65713 | train_auc: 0.65091 | valid_auc: 0.66206 |  0:00:35s\n",
      "epoch 20 | loss: 0.65558 | train_auc: 0.64983 | valid_auc: 0.66369 |  0:00:36s\n",
      "epoch 21 | loss: 0.65781 | train_auc: 0.64955 | valid_auc: 0.66313 |  0:00:38s\n",
      "epoch 22 | loss: 0.65695 | train_auc: 0.64988 | valid_auc: 0.66313 |  0:00:40s\n",
      "epoch 23 | loss: 0.65291 | train_auc: 0.65331 | valid_auc: 0.66789 |  0:00:42s\n",
      "epoch 24 | loss: 0.65627 | train_auc: 0.65432 | valid_auc: 0.66782 |  0:00:43s\n",
      "epoch 25 | loss: 0.65775 | train_auc: 0.65145 | valid_auc: 0.66564 |  0:00:45s\n",
      "epoch 26 | loss: 0.65833 | train_auc: 0.6563  | valid_auc: 0.67049 |  0:00:47s\n",
      "epoch 27 | loss: 0.6571  | train_auc: 0.65771 | valid_auc: 0.67041 |  0:00:48s\n",
      "epoch 28 | loss: 0.65718 | train_auc: 0.65825 | valid_auc: 0.67235 |  0:00:50s\n",
      "epoch 29 | loss: 0.65326 | train_auc: 0.65574 | valid_auc: 0.66721 |  0:00:52s\n",
      "epoch 30 | loss: 0.65413 | train_auc: 0.65992 | valid_auc: 0.67175 |  0:00:54s\n",
      "epoch 31 | loss: 0.65441 | train_auc: 0.65788 | valid_auc: 0.67075 |  0:00:55s\n",
      "epoch 32 | loss: 0.65486 | train_auc: 0.65857 | valid_auc: 0.67233 |  0:00:57s\n",
      "epoch 33 | loss: 0.65962 | train_auc: 0.6617  | valid_auc: 0.67254 |  0:00:59s\n",
      "epoch 34 | loss: 0.65345 | train_auc: 0.65897 | valid_auc: 0.6731  |  0:01:01s\n",
      "epoch 35 | loss: 0.65372 | train_auc: 0.66117 | valid_auc: 0.67458 |  0:01:02s\n",
      "epoch 36 | loss: 0.65826 | train_auc: 0.66214 | valid_auc: 0.67235 |  0:01:04s\n",
      "epoch 37 | loss: 0.65369 | train_auc: 0.66199 | valid_auc: 0.67133 |  0:01:06s\n",
      "epoch 38 | loss: 0.6522  | train_auc: 0.66255 | valid_auc: 0.67128 |  0:01:07s\n",
      "epoch 39 | loss: 0.65484 | train_auc: 0.66284 | valid_auc: 0.67169 |  0:01:09s\n",
      "epoch 40 | loss: 0.65646 | train_auc: 0.66266 | valid_auc: 0.67144 |  0:01:11s\n",
      "epoch 41 | loss: 0.65266 | train_auc: 0.66311 | valid_auc: 0.67092 |  0:01:13s\n",
      "epoch 42 | loss: 0.6533  | train_auc: 0.66283 | valid_auc: 0.67071 |  0:01:14s\n",
      "epoch 43 | loss: 0.65352 | train_auc: 0.66362 | valid_auc: 0.67403 |  0:01:16s\n",
      "epoch 44 | loss: 0.65174 | train_auc: 0.66212 | valid_auc: 0.67    |  0:01:18s\n",
      "epoch 45 | loss: 0.65425 | train_auc: 0.66424 | valid_auc: 0.67116 |  0:01:19s\n",
      "epoch 46 | loss: 0.65176 | train_auc: 0.66378 | valid_auc: 0.67068 |  0:01:21s\n",
      "epoch 47 | loss: 0.65274 | train_auc: 0.66368 | valid_auc: 0.67112 |  0:01:23s\n",
      "epoch 48 | loss: 0.65411 | train_auc: 0.66375 | valid_auc: 0.67242 |  0:01:25s\n",
      "epoch 49 | loss: 0.65322 | train_auc: 0.66425 | valid_auc: 0.67386 |  0:01:26s\n",
      "epoch 50 | loss: 0.65044 | train_auc: 0.66525 | valid_auc: 0.6747  |  0:01:28s\n",
      "epoch 51 | loss: 0.65239 | train_auc: 0.66572 | valid_auc: 0.67354 |  0:01:30s\n",
      "epoch 52 | loss: 0.65117 | train_auc: 0.66378 | valid_auc: 0.67093 |  0:01:32s\n",
      "epoch 53 | loss: 0.64754 | train_auc: 0.66602 | valid_auc: 0.67102 |  0:01:33s\n",
      "epoch 54 | loss: 0.65197 | train_auc: 0.6662  | valid_auc: 0.6721  |  0:01:35s\n",
      "epoch 55 | loss: 0.64876 | train_auc: 0.66545 | valid_auc: 0.67383 |  0:01:37s\n",
      "epoch 56 | loss: 0.65381 | train_auc: 0.66564 | valid_auc: 0.67273 |  0:01:38s\n",
      "epoch 57 | loss: 0.65133 | train_auc: 0.665   | valid_auc: 0.67331 |  0:01:40s\n",
      "epoch 58 | loss: 0.65022 | train_auc: 0.66573 | valid_auc: 0.67148 |  0:01:42s\n",
      "epoch 59 | loss: 0.64789 | train_auc: 0.66707 | valid_auc: 0.67486 |  0:01:44s\n",
      "epoch 60 | loss: 0.64999 | train_auc: 0.66668 | valid_auc: 0.67379 |  0:01:45s\n",
      "epoch 61 | loss: 0.65075 | train_auc: 0.66684 | valid_auc: 0.67213 |  0:01:47s\n",
      "epoch 62 | loss: 0.65065 | train_auc: 0.6669  | valid_auc: 0.67232 |  0:01:49s\n",
      "epoch 63 | loss: 0.65233 | train_auc: 0.66815 | valid_auc: 0.67506 |  0:01:50s\n",
      "epoch 64 | loss: 0.65087 | train_auc: 0.66626 | valid_auc: 0.67268 |  0:01:52s\n",
      "epoch 65 | loss: 0.64965 | train_auc: 0.66488 | valid_auc: 0.67141 |  0:01:54s\n",
      "epoch 66 | loss: 0.65097 | train_auc: 0.66502 | valid_auc: 0.67143 |  0:01:56s\n",
      "epoch 67 | loss: 0.65275 | train_auc: 0.66249 | valid_auc: 0.66941 |  0:01:57s\n",
      "epoch 68 | loss: 0.6552  | train_auc: 0.66105 | valid_auc: 0.66686 |  0:01:59s\n",
      "epoch 69 | loss: 0.65145 | train_auc: 0.66355 | valid_auc: 0.67024 |  0:02:01s\n",
      "epoch 70 | loss: 0.65081 | train_auc: 0.66349 | valid_auc: 0.6699  |  0:02:02s\n",
      "epoch 71 | loss: 0.65054 | train_auc: 0.66434 | valid_auc: 0.67043 |  0:02:04s\n",
      "epoch 72 | loss: 0.65356 | train_auc: 0.66493 | valid_auc: 0.67136 |  0:02:06s\n",
      "epoch 73 | loss: 0.65176 | train_auc: 0.66448 | valid_auc: 0.67389 |  0:02:08s\n",
      "epoch 74 | loss: 0.64929 | train_auc: 0.66517 | valid_auc: 0.6726  |  0:02:09s\n",
      "epoch 75 | loss: 0.65339 | train_auc: 0.66407 | valid_auc: 0.67031 |  0:02:11s\n",
      "epoch 76 | loss: 0.64814 | train_auc: 0.66461 | valid_auc: 0.67017 |  0:02:13s\n",
      "epoch 77 | loss: 0.65222 | train_auc: 0.66469 | valid_auc: 0.67019 |  0:02:15s\n",
      "epoch 78 | loss: 0.65143 | train_auc: 0.665   | valid_auc: 0.67072 |  0:02:16s\n",
      "epoch 79 | loss: 0.64877 | train_auc: 0.66675 | valid_auc: 0.67326 |  0:02:18s\n",
      "epoch 80 | loss: 0.64623 | train_auc: 0.66559 | valid_auc: 0.6732  |  0:02:20s\n",
      "epoch 81 | loss: 0.65113 | train_auc: 0.667   | valid_auc: 0.67486 |  0:02:21s\n",
      "epoch 82 | loss: 0.65268 | train_auc: 0.66441 | valid_auc: 0.67231 |  0:02:23s\n",
      "epoch 83 | loss: 0.65191 | train_auc: 0.66618 | valid_auc: 0.67174 |  0:02:25s\n",
      "\n",
      "Early stopping occurred at epoch 83 with best_epoch = 63 and best_valid_auc = 0.67506\n"
     ]
    },
    {
     "name": "stderr",
     "output_type": "stream",
     "text": [
      "c:\\Users\\USER\\Documents\\pytorchgpu\\venv\\lib\\site-packages\\pytorch_tabnet\\callbacks.py:172: UserWarning: Best weights from best epoch are automatically used!\n",
      "  warnings.warn(wrn_msg)\n"
     ]
    }
   ],
   "source": [
    "if \"histories\" not in locals():\n",
    "    histories = []\n",
    "\n",
    "clf.fit(\n",
    "    X_train=X_train,\n",
    "    y_train=y_train,\n",
    "    eval_set=[(X_train, y_train), (X_valid, y_valid)],\n",
    "    eval_name=[\"train\", \"valid\"],\n",
    "    eval_metric=[\"auc\"],\n",
    "    max_epochs=200,\n",
    "    patience=20,\n",
    "    batch_size=1024,\n",
    "    virtual_batch_size=128,\n",
    "    num_workers=0,\n",
    "    weights=1,\n",
    "    drop_last=False,\n",
    "    augmentations=aug,  # aug, None\n",
    ")\n",
    "histories.append(clf.history)"
   ]
  },
  {
   "cell_type": "code",
   "execution_count": 54,
   "metadata": {},
   "outputs": [
    {
     "data": {
      "text/plain": [
       "63"
      ]
     },
     "execution_count": 54,
     "metadata": {},
     "output_type": "execute_result"
    }
   ],
   "source": [
    "clf.best_epoch"
   ]
  },
  {
   "cell_type": "code",
   "execution_count": 55,
   "metadata": {},
   "outputs": [
    {
     "data": {
      "image/png": "[encoded data removed]",
      "text/plain": [
       "<Figure size 900x600 with 1 Axes>"
      ]
     },
     "metadata": {},
     "output_type": "display_data"
    }
   ],
   "source": [
    "plt.plot(clf.history['loss'])\n",
    "plt.axvline(clf.best_epoch,color='r')\n",
    "\n",
    "plt.xlim(left=0)\n",
    "plt.title(\"loss\")\n",
    "plt.savefig(\"output/loss.svg\")\n",
    "plt.savefig(\"output/loss.png\")"
   ]
  },
  {
   "cell_type": "code",
   "execution_count": 56,
   "metadata": {},
   "outputs": [
    {
     "data": {
      "image/png": "[encoded data removed]",
      "text/plain": [
       "<Figure size 900x600 with 1 Axes>"
      ]
     },
     "metadata": {},
     "output_type": "display_data"
    }
   ],
   "source": [
    "plt.plot(clf.history['train_auc'], label=\"train_auc\")\n",
    "plt.plot(clf.history['valid_auc'], label=\"valid_auc\")\n",
    "plt.axvline(clf.best_epoch,color='r')\n",
    "\n",
    "plt.xlim(left=0)\n",
    "plt.title(\"accuracy\")\n",
    "plt.legend()\n",
    "plt.savefig(\"output/accuracy.svg\")\n",
    "plt.savefig(\"output/accuracy.png\")"
   ]
  },
  {
   "cell_type": "code",
   "execution_count": 57,
   "metadata": {},
   "outputs": [
    {
     "name": "stdout",
     "output_type": "stream",
     "text": [
      "Successfully saved model at output/model.zip\n",
      "output/model.zip\n"
     ]
    }
   ],
   "source": [
    "savepath = clf.save_model('output/model')\n",
    "print(savepath)"
   ]
  },
  {
   "cell_type": "code",
   "execution_count": 58,
   "metadata": {},
   "outputs": [
    {
     "name": "stdout",
     "output_type": "stream",
     "text": [
      "BEST VALID SCORE : 0.675063904855367\n",
      "FINAL TEST SCORE : 0.657655315022626\n"
     ]
    }
   ],
   "source": [
    "preds_test = clf.predict_proba(X_test)\n",
    "test_auc = roc_auc_score(y_score=preds_test[:,1], y_true=y_test)\n",
    "\n",
    "preds_valid = clf.predict_proba(X_valid)\n",
    "valid_auc = roc_auc_score(y_score=preds_valid[:,1], y_true=y_valid)\n",
    "\n",
    "print(f\"BEST VALID SCORE : {valid_auc}\")\n",
    "print(f\"FINAL TEST SCORE : {test_auc}\")"
   ]
  },
  {
   "cell_type": "code",
   "execution_count": 59,
   "metadata": {},
   "outputs": [
    {
     "data": {
      "text/plain": [
       "array([1.85352899e-01, 7.44284838e-02, 2.56922048e-01, 7.29986578e-02,\n",
       "       3.63662869e-02, 2.80853423e-03, 2.13377097e-02, 5.31758326e-04,\n",
       "       1.29350073e-03, 1.45134172e-03, 2.30097093e-01, 8.53056861e-02,\n",
       "       4.31828564e-03, 1.93548583e-04, 2.65941662e-02])"
      ]
     },
     "execution_count": 59,
     "metadata": {},
     "output_type": "execute_result"
    }
   ],
   "source": [
    "clf.feature_importances_"
   ]
  },
  {
   "cell_type": "code",
   "execution_count": 60,
   "metadata": {},
   "outputs": [],
   "source": [
    "explain_matrix, masks = clf.explain(X_test)"
   ]
  },
  {
   "cell_type": "code",
   "execution_count": 61,
   "metadata": {},
   "outputs": [
    {
     "data": {
      "text/plain": [
       "array([[1.92010686e-01, 8.24082381e-05, 4.64071035e-01, ...,\n",
       "        0.00000000e+00, 0.00000000e+00, 9.07561698e-05],\n",
       "       [5.26034713e-01, 8.88999924e-02, 1.25655785e-01, ...,\n",
       "        0.00000000e+00, 0.00000000e+00, 5.40478639e-02],\n",
       "       [1.83620855e-01, 0.00000000e+00, 2.08484083e-01, ...,\n",
       "        0.00000000e+00, 0.00000000e+00, 0.00000000e+00],\n",
       "       ...,\n",
       "       [1.80664033e-01, 0.00000000e+00, 1.34532213e-01, ...,\n",
       "        0.00000000e+00, 0.00000000e+00, 0.00000000e+00],\n",
       "       [5.15105844e-01, 3.37991677e-02, 5.16298056e-01, ...,\n",
       "        3.16398381e-03, 0.00000000e+00, 1.96503829e-02],\n",
       "       [1.85683638e-01, 1.82922408e-01, 1.56786308e-01, ...,\n",
       "        0.00000000e+00, 1.54471654e-03, 1.20600156e-01]])"
      ]
     },
     "execution_count": 61,
     "metadata": {},
     "output_type": "execute_result"
    }
   ],
   "source": [
    "explain_matrix"
   ]
  },
  {
   "cell_type": "code",
   "execution_count": 62,
   "metadata": {},
   "outputs": [
    {
     "data": {
      "text/plain": [
       "(3930, 15)"
      ]
     },
     "execution_count": 62,
     "metadata": {},
     "output_type": "execute_result"
    }
   ],
   "source": [
    "explain_matrix.shape"
   ]
  },
  {
   "cell_type": "code",
   "execution_count": 63,
   "metadata": {},
   "outputs": [
    {
     "data": {
      "text/plain": [
       "(3, (3930, 15))"
      ]
     },
     "execution_count": 63,
     "metadata": {},
     "output_type": "execute_result"
    }
   ],
   "source": [
    "len(masks), masks[0].shape"
   ]
  },
  {
   "cell_type": "code",
   "execution_count": 64,
   "metadata": {},
   "outputs": [],
   "source": [
    "np.savez_compressed(\n",
    "    \"output/explain.npz\",\n",
    "    feature_importances_=clf.feature_importances_,\n",
    "    explain_matrix=explain_matrix,\n",
    "    masks0=masks[0],\n",
    "    masks1=masks[1],\n",
    "    masks2=masks[2],\n",
    ")\n"
   ]
  }
 ],
 "metadata": {
  "kernelspec": {
   "display_name": "Python 3.9.7 ('venv': venv)",
   "language": "python",
   "name": "python3"
  },
  "language_info": {
   "codemirror_mode": {
    "name": "ipython",
    "version": 3
   },
   "file_extension": ".py",
   "mimetype": "text/x-python",
   "name": "python",
   "nbconvert_exporter": "python",
   "pygments_lexer": "ipython3",
   "version": "3.9.7"
  },
  "orig_nbformat": 4,
  "vscode": {
   "interpreter": {
    "hash": "a676689c9b7c873b1524551316a1526cd2e074beed8b735cfa6a258b44e546c0"
   }
  }
 },
 "nbformat": 4,
 "nbformat_minor": 2
}
